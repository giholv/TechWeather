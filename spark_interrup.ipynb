{
  "cells": [
    {
      "cell_type": "markdown",
      "metadata": {
        "id": "view-in-github",
        "colab_type": "text"
      },
      "source": [
        "<a href=\"https://colab.research.google.com/github/giholv/TechWeather/blob/main/spark_interrup.ipynb\" target=\"_parent\"><img src=\"https://colab.research.google.com/assets/colab-badge.svg\" alt=\"Open In Colab\"/></a>"
      ]
    },
    {
      "cell_type": "code",
      "execution_count": 1,
      "metadata": {
        "colab": {
          "base_uri": "https://localhost:8080/"
        },
        "id": "JmcO4uWZ3OLO",
        "outputId": "6209af62-00e9-4eb2-ede5-007a8582735d"
      },
      "outputs": [
        {
          "output_type": "stream",
          "name": "stdout",
          "text": [
            "W: Skipping acquire of configured file 'main/source/Sources' as repository 'https://r2u.stat.illinois.edu/ubuntu jammy InRelease' does not seem to provide it (sources.list entry misspelt?)\n"
          ]
        }
      ],
      "source": [
        "# instalar as dependências\n",
        "!apt-get update -qq\n",
        "!apt-get install openjdk-8-jdk-headless -qq > /dev/null\n",
        "!wget -q https://archive.apache.org/dist/spark/spark-3.1.2/spark-3.1.2-bin-hadoop2.7.tgz\n",
        "!tar xf spark-3.1.2-bin-hadoop2.7.tgz\n",
        "!pip install -q findspark"
      ]
    },
    {
      "cell_type": "code",
      "execution_count": 2,
      "metadata": {
        "id": "_4Z_1m0z3sPJ"
      },
      "outputs": [],
      "source": [
        "import os\n",
        "os.environ[\"JAVA_HOME\"] = \"/usr/lib/jvm/java-8-openjdk-amd64\"\n",
        "os.environ[\"SPARK_HOME\"] = \"/content/spark-3.1.2-bin-hadoop2.7\""
      ]
    },
    {
      "cell_type": "code",
      "execution_count": 3,
      "metadata": {
        "id": "kqdft9fpGlH0"
      },
      "outputs": [],
      "source": [
        "import findspark\n",
        "findspark.init()"
      ]
    },
    {
      "cell_type": "code",
      "execution_count": 4,
      "metadata": {
        "id": "RpSjVUhR8AYq"
      },
      "outputs": [],
      "source": [
        "from pyspark.sql import SparkSession\n",
        "\n",
        "spark = SparkSession.builder \\\n",
        "    .master('local[*]') \\\n",
        "    .appName(\"Iniciando com Spark\") \\\n",
        "    .config('spark.ui.port', '4050') \\\n",
        "    .getOrCreate()"
      ]
    },
    {
      "cell_type": "code",
      "execution_count": 5,
      "metadata": {
        "colab": {
          "base_uri": "https://localhost:8080/"
        },
        "id": "Wy6EXcMn8bg5",
        "outputId": "c1f4348e-f1e4-4efd-b37b-fb5cbe8abe3a"
      },
      "outputs": [
        {
          "output_type": "stream",
          "name": "stdout",
          "text": [
            "Archive:  ngrok-stable-linux-amd64.zip\n",
            "  inflating: ngrok                   \n"
          ]
        }
      ],
      "source": [
        "!wget -q https://bin.equinox.io/c/4VmDzA7iaHb/ngrok-stable-linux-amd64.zip\n",
        "!unzip ngrok-stable-linux-amd64.zip"
      ]
    },
    {
      "cell_type": "code",
      "execution_count": 6,
      "metadata": {
        "id": "5Vwv-us1UuSk"
      },
      "outputs": [],
      "source": [
        "get_ipython().system_raw('./ngrok authtoken 2ltM8DyTSfaSjG7gfmCWpvvuB88_6Zs1qpMZSM7SkkNarfeYV')\n",
        "get_ipython().system_raw('./ngrok http 4050 &')"
      ]
    },
    {
      "cell_type": "code",
      "execution_count": 7,
      "metadata": {
        "id": "GOFKWePj8no0",
        "colab": {
          "base_uri": "https://localhost:8080/"
        },
        "outputId": "e8b87e4b-d85b-46a0-ae49-62aaf5d8dc13"
      },
      "outputs": [
        {
          "output_type": "stream",
          "name": "stdout",
          "text": [
            "{\"tunnels\":[],\"uri\":\"/api/tunnels\"}\n"
          ]
        }
      ],
      "source": [
        "!curl -s http://localhost:4040/api/tunnels"
      ]
    },
    {
      "cell_type": "code",
      "execution_count": 8,
      "metadata": {
        "colab": {
          "base_uri": "https://localhost:8080/",
          "height": 219
        },
        "id": "oonn_IJ08rfq",
        "outputId": "aaa734ee-3b7f-444f-dd20-0e635beb650d"
      },
      "outputs": [
        {
          "output_type": "execute_result",
          "data": {
            "text/plain": [
              "<pyspark.sql.session.SparkSession at 0x7a597e2f7e80>"
            ],
            "text/html": [
              "\n",
              "            <div>\n",
              "                <p><b>SparkSession - in-memory</b></p>\n",
              "                \n",
              "        <div>\n",
              "            <p><b>SparkContext</b></p>\n",
              "\n",
              "            <p><a href=\"http://d4fd806fa948:4050\">Spark UI</a></p>\n",
              "\n",
              "            <dl>\n",
              "              <dt>Version</dt>\n",
              "                <dd><code>v3.1.2</code></dd>\n",
              "              <dt>Master</dt>\n",
              "                <dd><code>local[*]</code></dd>\n",
              "              <dt>AppName</dt>\n",
              "                <dd><code>Iniciando com Spark</code></dd>\n",
              "            </dl>\n",
              "        </div>\n",
              "        \n",
              "            </div>\n",
              "        "
            ]
          },
          "metadata": {},
          "execution_count": 8
        }
      ],
      "source": [
        "spark"
      ]
    },
    {
      "cell_type": "code",
      "execution_count": null,
      "metadata": {
        "colab": {
          "base_uri": "https://localhost:8080/"
        },
        "id": "GGtNK1_4iGKh",
        "outputId": "bd04895e-f9ca-4e58-ad82-68c3be82d6be"
      },
      "outputs": [
        {
          "output_type": "stream",
          "name": "stdout",
          "text": [
            "Mounted at /content/drive\n"
          ]
        }
      ],
      "source": [
        "from google.colab import drive\n",
        "drive.mount('/content/drive')\n",
        "\n",
        "path = '/content/drive/MyDrive/datainterrup'\n",
        "# Ler o arquivo CSV com codificação UTF-8\n",
        "interrup = spark.read.option(\"encoding\", \"ISO-8859-1\").csv(path,sep= \";\", inferSchema=True,header=True)"
      ]
    },
    {
      "cell_type": "code",
      "execution_count": null,
      "metadata": {
        "id": "vc8_B1H8iNkX"
      },
      "outputs": [],
      "source": [
        "interrup.limit(10).toPandas()"
      ]
    },
    {
      "cell_type": "code",
      "execution_count": null,
      "metadata": {
        "id": "aocivOoxGlIA"
      },
      "outputs": [],
      "source": [
        "from pyspark.sql import functions as f\n",
        "from pyspark.sql.types import StringType, DoubleType, DateType,TimestampType\n",
        "import pandas as pd\n",
        "from pyspark.sql.functions import date_format\n",
        "\n",
        "spark.conf.set(\"spark.sql.legacy.timeParserPolicy\", \"LEGACY\")\n",
        "\n",
        "# Converter as colunas de data para o formato correto\n",
        "interrup = interrup.withColumn('DatInicioInterrupcao', f.to_date(f.col('DatInicioInterrupcao'), 'yyyy-MM-dd HH:mm:ss'))\n",
        "interrup = interrup.withColumn('DatFimInterrupcao', f.to_date(f.col('DatFimInterrupcao'), 'yyyy-MM-dd HH:mm:ss'))\n",
        "\n",
        "interrup = interrup.withColumn('NumAno', f.col('NumAno').cast(StringType()))\n",
        "\n",
        "# Converter o timestamp para string apenas com a data 'yyyy-MM-dd'\n",
        "\n",
        "interrup = interrup.withColumn('DatInicioInterrupcao', date_format(f.col('DatInicioInterrupcao'), 'yyyy/MM/dd'))"
      ]
    },
    {
      "cell_type": "code",
      "execution_count": null,
      "metadata": {
        "id": "etm7tFmzfRRL"
      },
      "outputs": [],
      "source": [
        "!pip install unidecode"
      ]
    },
    {
      "cell_type": "code",
      "execution_count": null,
      "metadata": {
        "id": "AK5Wij5tf2At"
      },
      "outputs": [],
      "source": [
        "from pyspark.sql.types import StringType, TimestampType\n",
        "from pyspark.sql.functions import udf, col, regexp_replace, when, upper, split\n",
        "from unidecode import unidecode\n",
        "\n",
        "# Função para remover acentuação usando unidecode\n",
        "def remove_accents(input_str):\n",
        "    if input_str:\n",
        "        return unidecode(input_str)\n",
        "    return None\n",
        "\n",
        "#função para remover acentos\n",
        "remove_accents_udf = udf(remove_accents, StringType())\n",
        "\n",
        "# Aplicar a função para remover acentuação na mesma coluna\n",
        "interrup = interrup.withColumn(\"DscConjuntoUnidadeConsumidora\",\n",
        "                               when(col(\"DscConjuntoUnidadeConsumidora\").isNotNull(),\n",
        "                                    remove_accents_udf(col(\"DscConjuntoUnidadeConsumidora\"))).otherwise(None))\n",
        "\n",
        "# Remover caracteres especiais na mesma coluna\n",
        "interrup = interrup.withColumn(\"DscConjuntoUnidadeConsumidora\",\n",
        "    regexp_replace(col(\"DscConjuntoUnidadeConsumidora\"), \"[^a-zA-Z0-9 ]\", \"\"))\n",
        "\n",
        "# Remover espaços em branco extras na mesma coluna\n",
        "interrup = interrup.withColumn(\"DscConjuntoUnidadeConsumidora\",\n",
        "    regexp_replace(col(\"DscConjuntoUnidadeConsumidora\"), \"\\s+\", \" \"))\n",
        "\n",
        "# Remover espaços em branco no início e no final na mesma coluna\n",
        "interrup = interrup.withColumn(\"DscConjuntoUnidadeConsumidora\",\n",
        "    regexp_replace(col(\"DscConjuntoUnidadeConsumidora\"), \"^\\s+|\\s+$\", \"\"))\n",
        "\n",
        "# Converte a coluna para caixa alta\n",
        "\n",
        "interrup = interrup.withColumn(\"DscConjuntoUnidadeConsumidora\", upper(col(\"DscConjuntoUnidadeConsumidora\")))\n",
        "interrup = interrup.withColumn(\"DscFatoGeradorInterrupcao\", upper(col(\"DscFatoGeradorInterrupcao\")))\n",
        "interrup = interrup.withColumn(\"NomAgenteRegulado\", upper(col(\"NomAgenteRegulado\")))\n",
        "\n",
        "interrup = interrup.withColumn(\"DscTipoInterrupcao\", upper(col(\"DscTipoInterrupcao\")))\n",
        "interrup = interrup.withColumn(\"DscTipoInterrupcao\",\n",
        "                               when(col(\"DscTipoInterrupcao\").isNotNull(),\n",
        "                                    remove_accents_udf(col(\"DscTipoInterrupcao\"))).otherwise(None))\n",
        "\n",
        "#remove acentuação e caracteres\n",
        "interrup = interrup.withColumn(\"DscTipoInterrupcao\",\n",
        "    regexp_replace(col(\"DscTipoInterrupcao\"), \"[^a-zA-Z0-9 ]\", \"\"))\n",
        "\n",
        "#substitui o separador - por ;\n",
        "interrup = interrup.withColumn(\"DscFatoGeradorInterrupcao\",\n",
        "    regexp_replace(col(\"DscFatoGeradorInterrupcao\"), \" - \", \";\"))\n",
        "\n",
        "#separa a coluna descrição dos fato gerador das interrupções em 4 partes\n",
        "\n",
        "interrup\\\n",
        "        .where('NumCPFCNPJ == 61695227000193')\n",
        "interrup = interrup.withColumn(\"parte_1\", split(interrup['DscFatoGeradorInterrupcao'], \";\").getItem(0)) \\\n",
        "             .withColumn(\"parte_2\", split(interrup['DscFatoGeradorInterrupcao'], \";\").getItem(1)) \\\n",
        "             .withColumn(\"parte_3\", split(interrup['DscFatoGeradorInterrupcao'], \";\").getItem(2)) \\\n",
        "             .withColumn(\"parte_4\", split(interrup['DscFatoGeradorInterrupcao'], \";\").getItem(3))\n",
        "\n",
        "#substitui valores em 'None' para desconhecido\n",
        "interrup = interrup.fillna({'parte_4':'DESCONHECIDO'})\n",
        "\n",
        "#remove as colunas data de geração do conjunto e descrição do alimentador\n",
        "interrup = interrup.drop('DatGeracaoConjuntoDados')\n",
        "interrup = interrup.drop('DscAlimentadorSubestacao')\n",
        "\n",
        "#substitui valores\n",
        "interrup = interrup.withColumn('DscConjuntoUnidadeConsumidora',\\\n",
        "                               regexp_replace('DscConjuntoUnidadeConsumidora', 'ALEX DE GUSMAO', 'ALEXANDRE DE GUSMAO'))\\\n",
        "                    .withColumn('DscConjuntoUnidadeConsumidora',\\\n",
        "                               regexp_replace('DscConjuntoUnidadeConsumidora', 'MIGUEL REALERETICULADO', 'MIGUEL REALE'))\\\n",
        "                    .withColumn('DscConjuntoUnidadeConsumidora',\\\n",
        "                               regexp_replace('DscConjuntoUnidadeConsumidora', 'BANDEIRANTESRETICULADO','BANDEIRANTES'))\n",
        "interrup\\\n",
        "    .where('NumCPFCNPJ == 61695227000193')"
      ]
    },
    {
      "cell_type": "code",
      "source": [
        "clean_df = interrup.dropna(how='any', subset=[\n",
        "    'IdeConjuntoUnidadeConsumidora', 'DscConjuntoUnidadeConsumidora', 'DscSubestacaoDistribuicao',\n",
        "    'NumOrdemInterrupcao', 'DscTipoInterrupcao', 'IdeMotivoInterrupcao', 'DatInicioInterrupcao',\n",
        "    'DatFimInterrupcao', 'DscFatoGeradorInterrupcao', 'NumNivelTensao', 'NumUnidadeConsumidora',\n",
        "    'NumConsumidorConjunto', 'NumAno', 'NomAgenteRegulado', 'SigAgente', 'NumCPFCNPJ',\n",
        "    'parte_1', 'parte_2', 'parte_3', 'parte_4'])\n",
        "\n",
        "columns = [\n",
        "    'IdeConjuntoUnidadeConsumidora', 'DscConjuntoUnidadeConsumidora', 'DscSubestacaoDistribuicao',\n",
        "    'NumOrdemInterrupcao', 'DscTipoInterrupcao', 'IdeMotivoInterrupcao', 'DatInicioInterrupcao',\n",
        "    'DatFimInterrupcao', 'DscFatoGeradorInterrupcao', 'NumNivelTensao', 'NumUnidadeConsumidora',\n",
        "    'NumConsumidorConjunto', 'NumAno', 'NomAgenteRegulado', 'SigAgente', 'NumCPFCNPJ',\n",
        "    'parte_1', 'parte_2', 'parte_3', 'parte_4'\n",
        "]\n",
        "\n",
        "# Contar os valores nulos para cada coluna\n",
        "null_counts = clean_df.select([f.sum(f.col(c).isNull().cast(\"int\")).alias(c) for c in columns])\n",
        "\n",
        "# Exibir o resultado\n",
        "null_counts.show()"
      ],
      "metadata": {
        "id": "88cHAx_1yl5d"
      },
      "execution_count": null,
      "outputs": []
    },
    {
      "cell_type": "code",
      "source": [
        "interrup = interrup.fillna({'DscTipoInterrupcao': 'DESCONHECIDO'})\n",
        "\n",
        "agg_df = interrup\\\n",
        "                .groupBy('DatInicioInterrupcao', 'NumOrdemInterrupcao')\\\n",
        "                .pivot('DscTipoInterrupcao')\\\n",
        "                .agg(f.lit(1))\\\n",
        "                .na.fill(0)\n",
        "\n",
        "agg_df.show()\n"
      ],
      "metadata": {
        "id": "YhXoK21WP9wk"
      },
      "execution_count": null,
      "outputs": []
    }
  ],
  "metadata": {
    "colab": {
      "provenance": [],
      "include_colab_link": true
    },
    "kernelspec": {
      "display_name": "Python 3",
      "name": "python3"
    },
    "language_info": {
      "codemirror_mode": {
        "name": "ipython",
        "version": 3
      },
      "file_extension": ".py",
      "mimetype": "text/x-python",
      "name": "python",
      "nbconvert_exporter": "python",
      "pygments_lexer": "ipython3",
      "version": "3.8.8"
    },
    "varInspector": {
      "cols": {
        "lenName": 16,
        "lenType": 16,
        "lenVar": 40
      },
      "kernels_config": {
        "python": {
          "delete_cmd_postfix": "",
          "delete_cmd_prefix": "del ",
          "library": "var_list.py",
          "varRefreshCmd": "print(var_dic_list())"
        },
        "r": {
          "delete_cmd_postfix": ") ",
          "delete_cmd_prefix": "rm(",
          "library": "var_list.r",
          "varRefreshCmd": "cat(var_dic_list()) "
        }
      },
      "types_to_exclude": [
        "module",
        "function",
        "builtin_function_or_method",
        "instance",
        "_Feature"
      ],
      "window_display": false
    }
  },
  "nbformat": 4,
  "nbformat_minor": 0
}